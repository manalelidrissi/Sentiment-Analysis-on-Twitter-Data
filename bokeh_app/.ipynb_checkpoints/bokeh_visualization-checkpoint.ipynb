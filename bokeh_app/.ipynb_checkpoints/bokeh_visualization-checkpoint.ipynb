{
 "cells": [
  {
   "cell_type": "code",
   "execution_count": null,
   "id": "a0dd57e1",
   "metadata": {},
   "outputs": [],
   "source": [
    "import pandas as pd\n",
    "import numpy as np\n",
    "\n",
    "from bokeh.io import output_file, output_notebook, curdoc, show\n",
    "from bokeh.plotting import figure, show\n",
    "from bokeh.layouts import layout, column\n",
    "from bokeh.models.widgets import Tabs, Panel"
   ]
  },
  {
   "cell_type": "code",
   "execution_count": null,
   "id": "b2ba77f5",
   "metadata": {},
   "outputs": [],
   "source": [
    "df_usa = pd.read_csv(\"../cleaned_data/usa_for_bokeh.csv\")\n",
    "df_uk = pd.read_csv(\"../cleaned_data/uk_for_bokeh.csv\")\n",
    "df_germany = pd.read_csv(\"../cleaned_data/germany_for_bokeh.csv\")"
   ]
  },
  {
   "cell_type": "code",
   "execution_count": null,
   "id": "763eda02",
   "metadata": {},
   "outputs": [],
   "source": [
    "from collections import Counter\n",
    "common_words = Counter(\" \".join(df_usa[\"tokenized_text\"]).split()).most_common(50)[-10:]"
   ]
  },
  {
   "cell_type": "code",
   "execution_count": null,
   "id": "ee97f2fe",
   "metadata": {},
   "outputs": [],
   "source": [
    "common_words"
   ]
  },
  {
   "cell_type": "code",
   "execution_count": null,
   "id": "50dbfaec",
   "metadata": {},
   "outputs": [],
   "source": [
    "words_count = [count for (word ,count) in common_words]\n",
    "frequent_words = [word for (word ,count) in common_words]"
   ]
  },
  {
   "cell_type": "code",
   "execution_count": null,
   "id": "fe315a02",
   "metadata": {},
   "outputs": [],
   "source": [
    "def bokeh_plot(df, country):\n",
    "    \"\"\"\n",
    "    :param df:\n",
    "    :return:\n",
    "    \"\"\"\n",
    "    output_notebook()\n",
    "    \n",
    "    fig = figure(background_fill_color='gray',\n",
    "                 background_fill_alpha=0.5,\n",
    "                 border_fill_color='blue',\n",
    "                 border_fill_alpha=0.25,\n",
    "                 plot_height=300,\n",
    "                 plot_width=500,  \n",
    "                 x_axis_label='polarity',\n",
    "                 x_axis_type='linear',\n",
    "                 x_axis_location='above',\n",
    "                 y_axis_label='subjectivity',\n",
    "                 y_axis_type='linear',\n",
    "                 y_axis_location='left',\n",
    "                 title=f'Bokeh plot of {country} sentiment',\n",
    "                 title_location='right',\n",
    "                 toolbar_location='below',\n",
    "                 tools='save')\n",
    "    \n",
    "    # add a circle renderer with a size, color, and alpha\n",
    "    fig.circle(df.polarity, df.subjectivity , size=2, color=\"blue\", alpha=0.5)\n",
    "    output_file(f\"../images/bokeh_plot_{country}.html\")\n",
    "    show(fig)\n",
    "    return fig"
   ]
  },
  {
   "cell_type": "code",
   "execution_count": null,
   "id": "c2981477",
   "metadata": {},
   "outputs": [],
   "source": [
    "bokeh_usa = bokeh_plot(df_usa, \"USA\")\n",
    "bokeh_uk = bokeh_plot(df_uk, \"UK\")\n",
    "bokeh_germany = bokeh_plot(df_germany, \"Germany\")"
   ]
  },
  {
   "cell_type": "code",
   "execution_count": null,
   "id": "3f5e9989",
   "metadata": {},
   "outputs": [],
   "source": [
    "layout_tweets = layout([column([bokeh_usa, bokeh_uk, bokeh_germany])])"
   ]
  },
  {
   "cell_type": "code",
   "execution_count": null,
   "id": "5f5cb9fb",
   "metadata": {},
   "outputs": [],
   "source": [
    "tab = Panel(child=layout_tweets,title=\"Sentiment Analysis on covid related tweets in Germany, UK and the US\")"
   ]
  },
  {
   "cell_type": "code",
   "execution_count": null,
   "id": "54015cca",
   "metadata": {},
   "outputs": [],
   "source": [
    "tabs = Tabs(tabs=[tab])\n",
    "curdoc().add_root(tabs)"
   ]
  },
  {
   "cell_type": "code",
   "execution_count": null,
   "id": "a3bd95c9",
   "metadata": {},
   "outputs": [],
   "source": []
  }
 ],
 "metadata": {
  "kernelspec": {
   "display_name": "Python 3 (ipykernel)",
   "language": "python",
   "name": "python3"
  },
  "language_info": {
   "codemirror_mode": {
    "name": "ipython",
    "version": 3
   },
   "file_extension": ".py",
   "mimetype": "text/x-python",
   "name": "python",
   "nbconvert_exporter": "python",
   "pygments_lexer": "ipython3",
   "version": "3.7.6"
  }
 },
 "nbformat": 4,
 "nbformat_minor": 5
}
